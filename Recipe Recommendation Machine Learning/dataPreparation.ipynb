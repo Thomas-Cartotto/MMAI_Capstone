{
 "cells": [
  {
   "cell_type": "code",
   "execution_count": 1,
   "metadata": {},
   "outputs": [],
   "source": [
    "import random\n",
    "import sklearn\n",
    "import csv\n",
    "import numpy as np\n",
    "from collections import defaultdict\n",
    "import pandas as pd\n",
    "import firebase_admin\n",
    "from firebase_admin import credentials\n",
    "from firebase_admin import firestore\n",
    "import datetime"
   ]
  },
  {
   "cell_type": "code",
   "execution_count": 2,
   "metadata": {},
   "outputs": [],
   "source": [
    "# Use a service account\n",
    "cred = credentials.Certificate('recipe-recommendation-94b2e-e2e0a9ee33eb.json')\n",
    "firebase_admin.initialize_app(cred)\n",
    "\n",
    "db = firestore.client()"
   ]
  },
  {
   "cell_type": "code",
   "execution_count": 3,
   "metadata": {},
   "outputs": [],
   "source": [
    "strain_df = pd.read_csv('DetailedStrainData.csv')"
   ]
  },
  {
   "cell_type": "code",
   "execution_count": 4,
   "metadata": {},
   "outputs": [],
   "source": [
    "strain_grouped = strain_df.groupby(['leafly_strain', 'strain_category'], as_index=False).mean()"
   ]
  },
  {
   "cell_type": "code",
   "execution_count": 5,
   "metadata": {},
   "outputs": [],
   "source": [
    "strain_grouped.loc[strain_grouped['strain_category'] == 'Sativa', 'sativa'] = True\n",
    "strain_grouped.loc[strain_grouped['strain_category'] == 'Sativa', 'hybrid'] = False\n",
    "strain_grouped.loc[strain_grouped['strain_category'] == 'Sativa', 'indica'] = False\n",
    "\n",
    "strain_grouped.loc[strain_grouped['strain_category'] == 'Hybrid', 'sativa'] = False\n",
    "strain_grouped.loc[strain_grouped['strain_category'] == 'Hybrid', 'hybrid'] = True\n",
    "strain_grouped.loc[strain_grouped['strain_category'] == 'Hybrid', 'indica'] = False\n",
    "\n",
    "strain_grouped.loc[strain_grouped['strain_category'] == 'Indica', 'sativa'] = False\n",
    "strain_grouped.loc[strain_grouped['strain_category'] == 'Indica', 'hybrid'] = False\n",
    "strain_grouped.loc[strain_grouped['strain_category'] == 'Indica', 'indica'] = True"
   ]
  },
  {
   "cell_type": "code",
   "execution_count": 11,
   "metadata": {},
   "outputs": [],
   "source": [
    "def submitStrainToDB(row):\n",
    "     \n",
    "    data = {\n",
    "        u'friendly_name': u'{}'.format(row['leafly_strain']),\n",
    "        u'cbd_percent': (row['cbd_max']/100.0),\n",
    "        u'hybrid': row['hybrid'],\n",
    "        u'sativa': row['sativa'],\n",
    "        u'indica': row['indica'],\n",
    "        u'thc_percent': (row['thc_max']/100.0),\n",
    "        u'avg_rating': random.uniform(0, 1),\n",
    "        u'avg_polarity': random.uniform(0, 1),\n",
    "        u'avg_sentiment': random.uniform(0, 1)\n",
    "    }\n",
    "    \n",
    "    db.collection(u'strains').document(u'{}'.format(row['leafly_strain'])).set(data)\n",
    "\n",
    "    return True\n"
   ]
  },
  {
   "cell_type": "code",
   "execution_count": 12,
   "metadata": {},
   "outputs": [
    {
     "data": {
      "text/plain": [
       "0       True\n",
       "1       True\n",
       "2       True\n",
       "3       True\n",
       "4       True\n",
       "5       True\n",
       "6       True\n",
       "7       True\n",
       "8       True\n",
       "9       True\n",
       "10      True\n",
       "11      True\n",
       "12      True\n",
       "13      True\n",
       "14      True\n",
       "15      True\n",
       "16      True\n",
       "17      True\n",
       "18      True\n",
       "19      True\n",
       "20      True\n",
       "21      True\n",
       "22      True\n",
       "23      True\n",
       "24      True\n",
       "25      True\n",
       "26      True\n",
       "27      True\n",
       "28      True\n",
       "29      True\n",
       "        ... \n",
       "1288    True\n",
       "1289    True\n",
       "1290    True\n",
       "1291    True\n",
       "1292    True\n",
       "1293    True\n",
       "1294    True\n",
       "1295    True\n",
       "1296    True\n",
       "1297    True\n",
       "1298    True\n",
       "1299    True\n",
       "1300    True\n",
       "1301    True\n",
       "1302    True\n",
       "1303    True\n",
       "1304    True\n",
       "1305    True\n",
       "1306    True\n",
       "1307    True\n",
       "1308    True\n",
       "1309    True\n",
       "1310    True\n",
       "1311    True\n",
       "1312    True\n",
       "1313    True\n",
       "1314    True\n",
       "1315    True\n",
       "1316    True\n",
       "1317    True\n",
       "Length: 1318, dtype: bool"
      ]
     },
     "execution_count": 12,
     "metadata": {},
     "output_type": "execute_result"
    }
   ],
   "source": [
    "strain_grouped.apply(submitStrainToDB, axis=1)"
   ]
  },
  {
   "cell_type": "code",
   "execution_count": 4,
   "metadata": {},
   "outputs": [
    {
     "name": "stdout",
     "output_type": "stream",
     "text": [
      "0\n",
      "1\n",
      "2\n",
      "3\n",
      "4\n",
      "5\n",
      "6\n",
      "7\n",
      "8\n",
      "9\n",
      "10\n",
      "11\n",
      "12\n",
      "13\n",
      "14\n",
      "15\n",
      "16\n",
      "17\n",
      "18\n",
      "19\n",
      "20\n",
      "21\n",
      "22\n",
      "23\n",
      "24\n",
      "25\n",
      "26\n",
      "27\n",
      "28\n",
      "29\n"
     ]
    }
   ],
   "source": [
    "for i in range(30):\n",
    "\n",
    "    recipe_ref = db.collection(u'recipes').document(u'test_recipe_{}'.format(i))\n",
    "    \n",
    "    usesOil = bool(random.getrandbits(1))\n",
    "    \n",
    "    recipe_ref.set({\n",
    "        u'friendly_name': u'test_recipe_{}'.format(i),\n",
    "        u'cooking_time_min': random.randint(1,240),\n",
    "        u'is_desert': bool(random.getrandbits(1)),\n",
    "        u'oven_percentage_power': random.uniform(0, 1),\n",
    "        u'percent_serving_weight_weed_ingredient':  random.uniform(0, 0.2),\n",
    "        u'uses_butter': not usesOil,\n",
    "        u'uses_oil': usesOil\n",
    "    })\n",
    "    \n",
    "    print(i)\n",
    "\n",
    "\n"
   ]
  },
  {
   "cell_type": "code",
   "execution_count": null,
   "metadata": {},
   "outputs": [],
   "source": []
  }
 ],
 "metadata": {
  "kernelspec": {
   "display_name": "Python 3",
   "language": "python",
   "name": "python3"
  },
  "language_info": {
   "codemirror_mode": {
    "name": "ipython",
    "version": 3
   },
   "file_extension": ".py",
   "mimetype": "text/x-python",
   "name": "python",
   "nbconvert_exporter": "python",
   "pygments_lexer": "ipython3",
   "version": "3.7.0"
  }
 },
 "nbformat": 4,
 "nbformat_minor": 2
}
