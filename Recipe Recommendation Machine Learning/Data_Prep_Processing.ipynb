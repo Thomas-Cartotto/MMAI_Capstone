{
 "cells": [
  {
   "cell_type": "markdown",
   "metadata": {},
   "source": [
    "## Here are all of the functions used to create and mass upload data"
   ]
  },
  {
   "cell_type": "code",
   "execution_count": 19,
   "metadata": {},
   "outputs": [],
   "source": [
    "import random\n",
    "import sklearn\n",
    "import csv\n",
    "import numpy as np\n",
    "from collections import defaultdict\n",
    "import pandas as pd\n",
    "import firebase_admin\n",
    "from firebase_admin import credentials\n",
    "from firebase_admin import firestore\n",
    "import datetime\n",
    "import re \n",
    "import unidecode\n",
    "from textblob import TextBlob"
   ]
  },
  {
   "cell_type": "code",
   "execution_count": 2,
   "metadata": {},
   "outputs": [],
   "source": [
    "# Use a service account\n",
    "cred = credentials.Certificate('recipe-recommendation-94b2e-e2e0a9ee33eb.json')\n",
    "firebase_admin.initialize_app(cred)\n",
    "\n",
    "db = firestore.client()"
   ]
  },
  {
   "cell_type": "code",
   "execution_count": 3,
   "metadata": {},
   "outputs": [],
   "source": [
    "strain_df = pd.read_csv('DetailedStrainData.csv')"
   ]
  },
  {
   "cell_type": "code",
   "execution_count": 4,
   "metadata": {},
   "outputs": [],
   "source": [
    "strain_grouped = strain_df.groupby(['leafly_strain', 'strain_category'], as_index=False).mean()"
   ]
  },
  {
   "cell_type": "code",
   "execution_count": 5,
   "metadata": {},
   "outputs": [],
   "source": [
    "strain_grouped.loc[strain_grouped['strain_category'] == 'Sativa', 'sativa'] = True\n",
    "strain_grouped.loc[strain_grouped['strain_category'] == 'Sativa', 'hybrid'] = False\n",
    "strain_grouped.loc[strain_grouped['strain_category'] == 'Sativa', 'indica'] = False\n",
    "\n",
    "strain_grouped.loc[strain_grouped['strain_category'] == 'Hybrid', 'sativa'] = False\n",
    "strain_grouped.loc[strain_grouped['strain_category'] == 'Hybrid', 'hybrid'] = True\n",
    "strain_grouped.loc[strain_grouped['strain_category'] == 'Hybrid', 'indica'] = False\n",
    "\n",
    "strain_grouped.loc[strain_grouped['strain_category'] == 'Indica', 'sativa'] = False\n",
    "strain_grouped.loc[strain_grouped['strain_category'] == 'Indica', 'hybrid'] = False\n",
    "strain_grouped.loc[strain_grouped['strain_category'] == 'Indica', 'indica'] = True"
   ]
  },
  {
   "cell_type": "code",
   "execution_count": 11,
   "metadata": {},
   "outputs": [],
   "source": [
    "def submitStrainToDB(row):\n",
    "     \n",
    "    data = {\n",
    "        u'friendly_name': u'{}'.format(row['leafly_strain']),\n",
    "        u'cbd_percent': (row['cbd_max']/100.0),\n",
    "        u'hybrid': row['hybrid'],\n",
    "        u'sativa': row['sativa'],\n",
    "        u'indica': row['indica'],\n",
    "        u'thc_percent': (row['thc_max']/100.0),\n",
    "        u'avg_rating': random.uniform(0, 1),\n",
    "        u'avg_polarity': random.uniform(0, 1),\n",
    "        u'avg_sentiment': random.uniform(0, 1)\n",
    "    }\n",
    "    \n",
    "    db.collection(u'strains').document(u'{}'.format(row['leafly_strain'])).set(data)\n",
    "\n",
    "    return True\n"
   ]
  },
  {
   "cell_type": "code",
   "execution_count": null,
   "metadata": {},
   "outputs": [],
   "source": [
    "strain_grouped.apply(submitStrainToDB, axis=1)"
   ]
  },
  {
   "cell_type": "code",
   "execution_count": 6,
   "metadata": {},
   "outputs": [],
   "source": [
    "for i in range(30):\n",
    "\n",
    "    recipe_ref = db.collection(u'recipes').document(u'test_recipe_{}'.format(i))\n",
    "    \n",
    "    usesOil = bool(random.getrandbits(1))\n",
    "    \n",
    "    recipe_ref.set({\n",
    "        u'friendly_name': u'test_recipe_{}'.format(i),\n",
    "        u'cooking_time_min': random.randint(1,240),\n",
    "        u'is_desert': bool(random.getrandbits(1)),\n",
    "        u'oven_percentage_power': random.uniform(0, 1),\n",
    "        u'percent_serving_weight_weed_ingredient':  random.uniform(0, 0.2),\n",
    "        u'uses_butter': not usesOil,\n",
    "        u'uses_oil': usesOil\n",
    "    })"
   ]
  },
  {
   "cell_type": "markdown",
   "metadata": {},
   "source": [
    "### Here we are going to create the review data and add it to the db."
   ]
  },
  {
   "cell_type": "code",
   "execution_count": 5,
   "metadata": {},
   "outputs": [],
   "source": [
    "# Here we need to pull in the data that goes with the reviews\n",
    "review_df = pd.read_csv('sample_review_data.csv')"
   ]
  },
  {
   "cell_type": "code",
   "execution_count": 15,
   "metadata": {},
   "outputs": [],
   "source": [
    "def remove_html_tags(sentence):\n",
    "    return re.sub(re.compile('<.*?>'), '', str(sentence))\n",
    "\n",
    "def remove_URLS(sentence):\n",
    "    return re.sub(re.compile('http\\S+|www\\.\\S+'), '', str(sentence))\n",
    "\n",
    "def remove_breaks(sentence):\n",
    "    return re.sub(re.compile('\\n|\\r|\\t'), '', str(sentence))\n",
    "\n",
    "def remove_unicode(sentence):\n",
    "    return unidecode.unidecode(str(sentence))\n",
    "\n",
    "def remove_numbers(sentence):\n",
    "    return re.sub(re.compile('\\d+'), '', str(sentence))\n",
    "\n",
    "def lower_case(sentence):\n",
    "    return str(sentence).lower()\n",
    "\n",
    "def remove_punctuation(sentence):\n",
    "    return re.sub(re.compile('[^\\w\\s]'), '', str(sentence))\n",
    "\n",
    "# Put it all together (Order is important)\n",
    "def apply_basic_cleaning(sentence):\n",
    "    iteration_one = remove_html_tags(sentence)\n",
    "    iteration_two = remove_URLS(iteration_one)\n",
    "    iteration_three = remove_breaks(iteration_two)\n",
    "    iteration_four = remove_numbers(iteration_three)\n",
    "    iteration_five = lower_case(iteration_four)\n",
    "    \n",
    "    return remove_punctuation(iteration_five)"
   ]
  },
  {
   "cell_type": "code",
   "execution_count": 20,
   "metadata": {},
   "outputs": [],
   "source": [
    "def getCurrentReviewSentiment(comment):\n",
    "    \n",
    "    clean_comment = apply_basic_cleaning(comment)\n",
    "    \n",
    "    sentiment = TextBlob(clean_comment).sentiment\n",
    "    \n",
    "    polarity = sentiment.polarity\n",
    "    subjectivity = sentiment.subjectivity\n",
    "    \n",
    "    return pd.Series((polarity, subjectivity))"
   ]
  },
  {
   "cell_type": "code",
   "execution_count": 21,
   "metadata": {},
   "outputs": [],
   "source": [
    "review_df[['commnet_polarity', 'comment_subjectivity']] = review_df.apply(lambda row: getCurrentReviewSentiment(row['comment']), axis=1)"
   ]
  },
  {
   "cell_type": "code",
   "execution_count": 48,
   "metadata": {},
   "outputs": [],
   "source": [
    "def addRecipeAndStrainDataToReview(row):\n",
    "    \n",
    "    recipeID = u'test_recipe_{}'.format(random.randint(1,29))\n",
    "    strainID = u'{}'.format(row['strain_id'])\n",
    "\n",
    "    recipe_ref = db.collection(u'recipes').document(u'{}'.format(recipeID))\n",
    "    recipe = recipe_ref.get()\n",
    "    recipeData = recipe.to_dict()\n",
    "    \n",
    "    strain_ref = db.collection(u'strains').document(u'{}'.format(strainID))\n",
    "    strain = strain_ref.get()\n",
    "    \n",
    "    strainData = strain.to_dict()\n",
    "    \n",
    "    conditions = ['cramps', 'depression', 'eye_pressure', 'fatigue_headaches', 'inflamation_insomnia', 'lack_appetite', 'muscle_spasms', 'nausea', 'pain', 'seizures', 'spasticity', 'stress']\n",
    "    \n",
    "    # Add to the database\n",
    "    data = [strainData['hybrid'], strainData['sativa'],strainData['indica'], strainData['thc_percent'], strainData['cbd_percent'], strainData['avg_sentiment'], strainData['avg_polarity'], strainData['avg_rating'], recipeData['cooking_time_min'], recipeData['is_desert'], recipeData['oven_percentage_power'], recipeData['percent_serving_weight_weed_ingredient'], recipeData['uses_butter'], recipeData['uses_oil'], conditions[random.randint(0,11)], row['comment'], row['commnet_polarity'], row['comment_subjectivity'], row['rating'], bool(random.getrandbits(1)), row['username']]\n",
    "    \n",
    "    review_ref = db.collection(u'reviews').document()    \n",
    "    review_ref.set({\n",
    "        u'hybrid': data[0],\n",
    "        u'sativa': data[1],\n",
    "        u'indica': data[2],\n",
    "        u'thc_percent': data[3],\n",
    "        u'cbd_percent': data[4],\n",
    "        u'avg_subjectivity': data[5],\n",
    "        u'avg_polarity': data[6],\n",
    "        u'avg_rating': data[7],\n",
    "        u'cooking_time_min': data[8],\n",
    "        u'is_desert': data[9],\n",
    "        u'oven_percentage_power': data[10],\n",
    "        u'percent_serving_weight_weed_ingredient': data[11],\n",
    "        u'uses_butter': data[12],\n",
    "        u'uses_oil': data[13],\n",
    "        u'condition': data[14],\n",
    "        u'comment': u'{}'.format(data[15]),\n",
    "        u'commnet_polarity': data[16],\n",
    "        u'comment_subjectivity': data[17],\n",
    "        u'rating': data[18],\n",
    "        u'relief': data[19],\n",
    "        u'username': u'{}'.format(data[20])\n",
    "    })\n",
    "    \n",
    "    return pd.Series((strainData['hybrid'], strainData['sativa'],strainData['indica'], strainData['thc_percent'], strainData['cbd_percent'], strainData['avg_sentiment'], strainData['avg_polarity'], strainData['avg_rating'], recipeData['cooking_time_min'], recipeData['is_desert'], recipeData['oven_percentage_power'], recipeData['percent_serving_weight_weed_ingredient'], recipeData['uses_butter'], recipeData['uses_oil'], conditions[random.randint(0,11)], row['comment'], row['commnet_polarity'], row['comment_subjectivity'], row['rating'], bool(random.getrandbits(1)), row['username']))"
   ]
  },
  {
   "cell_type": "code",
   "execution_count": 49,
   "metadata": {},
   "outputs": [],
   "source": [
    "review_df[['hybrid', 'sativa', 'indica', 'thc_percent', 'cbd_percent', 'avg_subjectivity', 'avg_polarity', 'avg_rating', 'cooking_time_min', 'is_desert', 'oven_percentage_power', 'percent_serving_weight_weed_ingredient', 'uses_butter', 'uses_oil', 'condition', 'comment', 'commnet_polarity', 'comment_subjectivity', 'rating', 'relief', 'username']] = review_df.apply(lambda row: addRecipeAndStrainDataToReview(row), axis=1)"
   ]
  },
  {
   "cell_type": "code",
   "execution_count": 50,
   "metadata": {},
   "outputs": [],
   "source": [
    "review_df.to_csv(r'TestData.csv')"
   ]
  }
 ],
 "metadata": {
  "kernelspec": {
   "display_name": "Python 3",
   "language": "python",
   "name": "python3"
  },
  "language_info": {
   "codemirror_mode": {
    "name": "ipython",
    "version": 3
   },
   "file_extension": ".py",
   "mimetype": "text/x-python",
   "name": "python",
   "nbconvert_exporter": "python",
   "pygments_lexer": "ipython3",
   "version": "3.7.0"
  }
 },
 "nbformat": 4,
 "nbformat_minor": 2
}
